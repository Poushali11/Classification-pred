{
  "nbformat": 4,
  "nbformat_minor": 0,
  "metadata": {
    "colab": {
      "name": "INSAID.ipynb",
      "provenance": [],
      "collapsed_sections": [],
      "authorship_tag": "ABX9TyOWan1yVC89fudImzZq2dQW",
      "include_colab_link": true
    },
    "kernelspec": {
      "name": "python3",
      "display_name": "Python 3"
    },
    "language_info": {
      "name": "python"
    }
  },
  "cells": [
    {
      "cell_type": "markdown",
      "metadata": {
        "id": "view-in-github",
        "colab_type": "text"
      },
      "source": [
        "<a href=\"https://colab.research.google.com/github/Poushali11/Classification-prediction/blob/main/INSAID.ipynb\" target=\"_parent\"><img src=\"https://colab.research.google.com/assets/colab-badge.svg\" alt=\"Open In Colab\"/></a>"
      ]
    },
    {
      "cell_type": "markdown",
      "source": [
        "Business Object - To classify and predict fraudalent transactions based on the historical data.\n",
        "\n",
        "Business Constraint- Less no of variables available to make decision."
      ],
      "metadata": {
        "id": "ek37XEKP6_Ey"
      }
    },
    {
      "cell_type": "markdown",
      "source": [
        "Import the necessary libraries"
      ],
      "metadata": {
        "id": "QHWzcSJ77hqG"
      }
    },
    {
      "cell_type": "code",
      "execution_count": null,
      "metadata": {
        "id": "Pc5_jPcTQH7R"
      },
      "outputs": [],
      "source": [
        "import pandas as pd\n",
        "import numpy as np\n",
        "import matplotlib.pyplot as plt\n",
        "import seaborn as sns\n",
        "#We will use sklearn for building logistic regression model\n",
        "from sklearn.linear_model import LogisticRegression"
      ]
    },
    {
      "cell_type": "code",
      "source": [
        "#loading the dataset\n",
        "frauds= pd.read_csv(\"/content/Fraud.csv\")"
      ],
      "metadata": {
        "id": "SZbrPlX9QiNu"
      },
      "execution_count": null,
      "outputs": []
    },
    {
      "cell_type": "code",
      "source": [
        "frauds.head(10)"
      ],
      "metadata": {
        "colab": {
          "base_uri": "https://localhost:8080/",
          "height": 363
        },
        "id": "zEwSgaYdRNl0",
        "outputId": "06895d2d-cf55-4f47-ba06-65fa6118e96b"
      },
      "execution_count": null,
      "outputs": [
        {
          "output_type": "execute_result",
          "data": {
            "text/html": [
              "\n",
              "  <div id=\"df-8bd86f87-c709-4286-bd35-218778b3ff8d\">\n",
              "    <div class=\"colab-df-container\">\n",
              "      <div>\n",
              "<style scoped>\n",
              "    .dataframe tbody tr th:only-of-type {\n",
              "        vertical-align: middle;\n",
              "    }\n",
              "\n",
              "    .dataframe tbody tr th {\n",
              "        vertical-align: top;\n",
              "    }\n",
              "\n",
              "    .dataframe thead th {\n",
              "        text-align: right;\n",
              "    }\n",
              "</style>\n",
              "<table border=\"1\" class=\"dataframe\">\n",
              "  <thead>\n",
              "    <tr style=\"text-align: right;\">\n",
              "      <th></th>\n",
              "      <th>step</th>\n",
              "      <th>type</th>\n",
              "      <th>amount</th>\n",
              "      <th>nameOrig</th>\n",
              "      <th>oldbalanceOrg</th>\n",
              "      <th>newbalanceOrig</th>\n",
              "      <th>nameDest</th>\n",
              "      <th>oldbalanceDest</th>\n",
              "      <th>newbalanceDest</th>\n",
              "      <th>isFraud</th>\n",
              "      <th>isFlaggedFraud</th>\n",
              "    </tr>\n",
              "  </thead>\n",
              "  <tbody>\n",
              "    <tr>\n",
              "      <th>0</th>\n",
              "      <td>1</td>\n",
              "      <td>PAYMENT</td>\n",
              "      <td>9839.64</td>\n",
              "      <td>C1231006815</td>\n",
              "      <td>170136.00</td>\n",
              "      <td>160296.36</td>\n",
              "      <td>M1979787155</td>\n",
              "      <td>0.0</td>\n",
              "      <td>0.00</td>\n",
              "      <td>0.0</td>\n",
              "      <td>0.0</td>\n",
              "    </tr>\n",
              "    <tr>\n",
              "      <th>1</th>\n",
              "      <td>1</td>\n",
              "      <td>PAYMENT</td>\n",
              "      <td>1864.28</td>\n",
              "      <td>C1666544295</td>\n",
              "      <td>21249.00</td>\n",
              "      <td>19384.72</td>\n",
              "      <td>M2044282225</td>\n",
              "      <td>0.0</td>\n",
              "      <td>0.00</td>\n",
              "      <td>0.0</td>\n",
              "      <td>0.0</td>\n",
              "    </tr>\n",
              "    <tr>\n",
              "      <th>2</th>\n",
              "      <td>1</td>\n",
              "      <td>TRANSFER</td>\n",
              "      <td>181.00</td>\n",
              "      <td>C1305486145</td>\n",
              "      <td>181.00</td>\n",
              "      <td>0.00</td>\n",
              "      <td>C553264065</td>\n",
              "      <td>0.0</td>\n",
              "      <td>0.00</td>\n",
              "      <td>1.0</td>\n",
              "      <td>0.0</td>\n",
              "    </tr>\n",
              "    <tr>\n",
              "      <th>3</th>\n",
              "      <td>1</td>\n",
              "      <td>CASH_OUT</td>\n",
              "      <td>181.00</td>\n",
              "      <td>C840083671</td>\n",
              "      <td>181.00</td>\n",
              "      <td>0.00</td>\n",
              "      <td>C38997010</td>\n",
              "      <td>21182.0</td>\n",
              "      <td>0.00</td>\n",
              "      <td>1.0</td>\n",
              "      <td>0.0</td>\n",
              "    </tr>\n",
              "    <tr>\n",
              "      <th>4</th>\n",
              "      <td>1</td>\n",
              "      <td>PAYMENT</td>\n",
              "      <td>11668.14</td>\n",
              "      <td>C2048537720</td>\n",
              "      <td>41554.00</td>\n",
              "      <td>29885.86</td>\n",
              "      <td>M1230701703</td>\n",
              "      <td>0.0</td>\n",
              "      <td>0.00</td>\n",
              "      <td>0.0</td>\n",
              "      <td>0.0</td>\n",
              "    </tr>\n",
              "    <tr>\n",
              "      <th>5</th>\n",
              "      <td>1</td>\n",
              "      <td>PAYMENT</td>\n",
              "      <td>7817.71</td>\n",
              "      <td>C90045638</td>\n",
              "      <td>53860.00</td>\n",
              "      <td>46042.29</td>\n",
              "      <td>M573487274</td>\n",
              "      <td>0.0</td>\n",
              "      <td>0.00</td>\n",
              "      <td>0.0</td>\n",
              "      <td>0.0</td>\n",
              "    </tr>\n",
              "    <tr>\n",
              "      <th>6</th>\n",
              "      <td>1</td>\n",
              "      <td>PAYMENT</td>\n",
              "      <td>7107.77</td>\n",
              "      <td>C154988899</td>\n",
              "      <td>183195.00</td>\n",
              "      <td>176087.23</td>\n",
              "      <td>M408069119</td>\n",
              "      <td>0.0</td>\n",
              "      <td>0.00</td>\n",
              "      <td>0.0</td>\n",
              "      <td>0.0</td>\n",
              "    </tr>\n",
              "    <tr>\n",
              "      <th>7</th>\n",
              "      <td>1</td>\n",
              "      <td>PAYMENT</td>\n",
              "      <td>7861.64</td>\n",
              "      <td>C1912850431</td>\n",
              "      <td>176087.23</td>\n",
              "      <td>168225.59</td>\n",
              "      <td>M633326333</td>\n",
              "      <td>0.0</td>\n",
              "      <td>0.00</td>\n",
              "      <td>0.0</td>\n",
              "      <td>0.0</td>\n",
              "    </tr>\n",
              "    <tr>\n",
              "      <th>8</th>\n",
              "      <td>1</td>\n",
              "      <td>PAYMENT</td>\n",
              "      <td>4024.36</td>\n",
              "      <td>C1265012928</td>\n",
              "      <td>2671.00</td>\n",
              "      <td>0.00</td>\n",
              "      <td>M1176932104</td>\n",
              "      <td>0.0</td>\n",
              "      <td>0.00</td>\n",
              "      <td>0.0</td>\n",
              "      <td>0.0</td>\n",
              "    </tr>\n",
              "    <tr>\n",
              "      <th>9</th>\n",
              "      <td>1</td>\n",
              "      <td>DEBIT</td>\n",
              "      <td>5337.77</td>\n",
              "      <td>C712410124</td>\n",
              "      <td>41720.00</td>\n",
              "      <td>36382.23</td>\n",
              "      <td>C195600860</td>\n",
              "      <td>41898.0</td>\n",
              "      <td>40348.79</td>\n",
              "      <td>0.0</td>\n",
              "      <td>0.0</td>\n",
              "    </tr>\n",
              "  </tbody>\n",
              "</table>\n",
              "</div>\n",
              "      <button class=\"colab-df-convert\" onclick=\"convertToInteractive('df-8bd86f87-c709-4286-bd35-218778b3ff8d')\"\n",
              "              title=\"Convert this dataframe to an interactive table.\"\n",
              "              style=\"display:none;\">\n",
              "        \n",
              "  <svg xmlns=\"http://www.w3.org/2000/svg\" height=\"24px\"viewBox=\"0 0 24 24\"\n",
              "       width=\"24px\">\n",
              "    <path d=\"M0 0h24v24H0V0z\" fill=\"none\"/>\n",
              "    <path d=\"M18.56 5.44l.94 2.06.94-2.06 2.06-.94-2.06-.94-.94-2.06-.94 2.06-2.06.94zm-11 1L8.5 8.5l.94-2.06 2.06-.94-2.06-.94L8.5 2.5l-.94 2.06-2.06.94zm10 10l.94 2.06.94-2.06 2.06-.94-2.06-.94-.94-2.06-.94 2.06-2.06.94z\"/><path d=\"M17.41 7.96l-1.37-1.37c-.4-.4-.92-.59-1.43-.59-.52 0-1.04.2-1.43.59L10.3 9.45l-7.72 7.72c-.78.78-.78 2.05 0 2.83L4 21.41c.39.39.9.59 1.41.59.51 0 1.02-.2 1.41-.59l7.78-7.78 2.81-2.81c.8-.78.8-2.07 0-2.86zM5.41 20L4 18.59l7.72-7.72 1.47 1.35L5.41 20z\"/>\n",
              "  </svg>\n",
              "      </button>\n",
              "      \n",
              "  <style>\n",
              "    .colab-df-container {\n",
              "      display:flex;\n",
              "      flex-wrap:wrap;\n",
              "      gap: 12px;\n",
              "    }\n",
              "\n",
              "    .colab-df-convert {\n",
              "      background-color: #E8F0FE;\n",
              "      border: none;\n",
              "      border-radius: 50%;\n",
              "      cursor: pointer;\n",
              "      display: none;\n",
              "      fill: #1967D2;\n",
              "      height: 32px;\n",
              "      padding: 0 0 0 0;\n",
              "      width: 32px;\n",
              "    }\n",
              "\n",
              "    .colab-df-convert:hover {\n",
              "      background-color: #E2EBFA;\n",
              "      box-shadow: 0px 1px 2px rgba(60, 64, 67, 0.3), 0px 1px 3px 1px rgba(60, 64, 67, 0.15);\n",
              "      fill: #174EA6;\n",
              "    }\n",
              "\n",
              "    [theme=dark] .colab-df-convert {\n",
              "      background-color: #3B4455;\n",
              "      fill: #D2E3FC;\n",
              "    }\n",
              "\n",
              "    [theme=dark] .colab-df-convert:hover {\n",
              "      background-color: #434B5C;\n",
              "      box-shadow: 0px 1px 3px 1px rgba(0, 0, 0, 0.15);\n",
              "      filter: drop-shadow(0px 1px 2px rgba(0, 0, 0, 0.3));\n",
              "      fill: #FFFFFF;\n",
              "    }\n",
              "  </style>\n",
              "\n",
              "      <script>\n",
              "        const buttonEl =\n",
              "          document.querySelector('#df-8bd86f87-c709-4286-bd35-218778b3ff8d button.colab-df-convert');\n",
              "        buttonEl.style.display =\n",
              "          google.colab.kernel.accessAllowed ? 'block' : 'none';\n",
              "\n",
              "        async function convertToInteractive(key) {\n",
              "          const element = document.querySelector('#df-8bd86f87-c709-4286-bd35-218778b3ff8d');\n",
              "          const dataTable =\n",
              "            await google.colab.kernel.invokeFunction('convertToInteractive',\n",
              "                                                     [key], {});\n",
              "          if (!dataTable) return;\n",
              "\n",
              "          const docLinkHtml = 'Like what you see? Visit the ' +\n",
              "            '<a target=\"_blank\" href=https://colab.research.google.com/notebooks/data_table.ipynb>data table notebook</a>'\n",
              "            + ' to learn more about interactive tables.';\n",
              "          element.innerHTML = '';\n",
              "          dataTable['output_type'] = 'display_data';\n",
              "          await google.colab.output.renderOutput(dataTable, element);\n",
              "          const docLink = document.createElement('div');\n",
              "          docLink.innerHTML = docLinkHtml;\n",
              "          element.appendChild(docLink);\n",
              "        }\n",
              "      </script>\n",
              "    </div>\n",
              "  </div>\n",
              "  "
            ],
            "text/plain": [
              "   step      type    amount     nameOrig  oldbalanceOrg  newbalanceOrig  \\\n",
              "0     1   PAYMENT   9839.64  C1231006815      170136.00       160296.36   \n",
              "1     1   PAYMENT   1864.28  C1666544295       21249.00        19384.72   \n",
              "2     1  TRANSFER    181.00  C1305486145         181.00            0.00   \n",
              "3     1  CASH_OUT    181.00   C840083671         181.00            0.00   \n",
              "4     1   PAYMENT  11668.14  C2048537720       41554.00        29885.86   \n",
              "5     1   PAYMENT   7817.71    C90045638       53860.00        46042.29   \n",
              "6     1   PAYMENT   7107.77   C154988899      183195.00       176087.23   \n",
              "7     1   PAYMENT   7861.64  C1912850431      176087.23       168225.59   \n",
              "8     1   PAYMENT   4024.36  C1265012928        2671.00            0.00   \n",
              "9     1     DEBIT   5337.77   C712410124       41720.00        36382.23   \n",
              "\n",
              "      nameDest  oldbalanceDest  newbalanceDest  isFraud  isFlaggedFraud  \n",
              "0  M1979787155             0.0            0.00      0.0             0.0  \n",
              "1  M2044282225             0.0            0.00      0.0             0.0  \n",
              "2   C553264065             0.0            0.00      1.0             0.0  \n",
              "3    C38997010         21182.0            0.00      1.0             0.0  \n",
              "4  M1230701703             0.0            0.00      0.0             0.0  \n",
              "5   M573487274             0.0            0.00      0.0             0.0  \n",
              "6   M408069119             0.0            0.00      0.0             0.0  \n",
              "7   M633326333             0.0            0.00      0.0             0.0  \n",
              "8  M1176932104             0.0            0.00      0.0             0.0  \n",
              "9   C195600860         41898.0        40348.79      0.0             0.0  "
            ]
          },
          "metadata": {},
          "execution_count": 4
        }
      ]
    },
    {
      "cell_type": "code",
      "source": [
        "frauds.describe()"
      ],
      "metadata": {
        "colab": {
          "base_uri": "https://localhost:8080/",
          "height": 300
        },
        "id": "fCW97isMRVSN",
        "outputId": "477d0143-ba09-4c5b-eb67-241ccfd8e195"
      },
      "execution_count": null,
      "outputs": [
        {
          "output_type": "execute_result",
          "data": {
            "text/html": [
              "\n",
              "  <div id=\"df-b2494e8d-5f6c-42c6-9b23-0c33614ff673\">\n",
              "    <div class=\"colab-df-container\">\n",
              "      <div>\n",
              "<style scoped>\n",
              "    .dataframe tbody tr th:only-of-type {\n",
              "        vertical-align: middle;\n",
              "    }\n",
              "\n",
              "    .dataframe tbody tr th {\n",
              "        vertical-align: top;\n",
              "    }\n",
              "\n",
              "    .dataframe thead th {\n",
              "        text-align: right;\n",
              "    }\n",
              "</style>\n",
              "<table border=\"1\" class=\"dataframe\">\n",
              "  <thead>\n",
              "    <tr style=\"text-align: right;\">\n",
              "      <th></th>\n",
              "      <th>step</th>\n",
              "      <th>amount</th>\n",
              "      <th>oldbalanceOrg</th>\n",
              "      <th>newbalanceOrig</th>\n",
              "      <th>oldbalanceDest</th>\n",
              "      <th>newbalanceDest</th>\n",
              "      <th>isFraud</th>\n",
              "      <th>isFlaggedFraud</th>\n",
              "    </tr>\n",
              "  </thead>\n",
              "  <tbody>\n",
              "    <tr>\n",
              "      <th>count</th>\n",
              "      <td>69858.000000</td>\n",
              "      <td>6.985800e+04</td>\n",
              "      <td>6.985800e+04</td>\n",
              "      <td>6.985800e+04</td>\n",
              "      <td>6.985800e+04</td>\n",
              "      <td>6.985700e+04</td>\n",
              "      <td>69857.000000</td>\n",
              "      <td>69857.0</td>\n",
              "    </tr>\n",
              "    <tr>\n",
              "      <th>mean</th>\n",
              "      <td>7.893326</td>\n",
              "      <td>1.640176e+05</td>\n",
              "      <td>9.043066e+05</td>\n",
              "      <td>9.202980e+05</td>\n",
              "      <td>8.543522e+05</td>\n",
              "      <td>1.185141e+06</td>\n",
              "      <td>0.001532</td>\n",
              "      <td>0.0</td>\n",
              "    </tr>\n",
              "    <tr>\n",
              "      <th>std</th>\n",
              "      <td>1.874512</td>\n",
              "      <td>3.313730e+05</td>\n",
              "      <td>2.791616e+06</td>\n",
              "      <td>2.829881e+06</td>\n",
              "      <td>2.403000e+06</td>\n",
              "      <td>2.871791e+06</td>\n",
              "      <td>0.039107</td>\n",
              "      <td>0.0</td>\n",
              "    </tr>\n",
              "    <tr>\n",
              "      <th>min</th>\n",
              "      <td>1.000000</td>\n",
              "      <td>6.300000e-01</td>\n",
              "      <td>0.000000e+00</td>\n",
              "      <td>0.000000e+00</td>\n",
              "      <td>0.000000e+00</td>\n",
              "      <td>0.000000e+00</td>\n",
              "      <td>0.000000</td>\n",
              "      <td>0.0</td>\n",
              "    </tr>\n",
              "    <tr>\n",
              "      <th>25%</th>\n",
              "      <td>8.000000</td>\n",
              "      <td>9.011012e+03</td>\n",
              "      <td>0.000000e+00</td>\n",
              "      <td>0.000000e+00</td>\n",
              "      <td>0.000000e+00</td>\n",
              "      <td>0.000000e+00</td>\n",
              "      <td>0.000000</td>\n",
              "      <td>0.0</td>\n",
              "    </tr>\n",
              "    <tr>\n",
              "      <th>50%</th>\n",
              "      <td>8.000000</td>\n",
              "      <td>4.404918e+04</td>\n",
              "      <td>1.990850e+04</td>\n",
              "      <td>0.000000e+00</td>\n",
              "      <td>1.416050e+04</td>\n",
              "      <td>2.113068e+04</td>\n",
              "      <td>0.000000</td>\n",
              "      <td>0.0</td>\n",
              "    </tr>\n",
              "    <tr>\n",
              "      <th>75%</th>\n",
              "      <td>9.000000</td>\n",
              "      <td>1.991307e+05</td>\n",
              "      <td>1.721175e+05</td>\n",
              "      <td>1.940205e+05</td>\n",
              "      <td>5.186073e+05</td>\n",
              "      <td>9.824113e+05</td>\n",
              "      <td>0.000000</td>\n",
              "      <td>0.0</td>\n",
              "    </tr>\n",
              "    <tr>\n",
              "      <th>max</th>\n",
              "      <td>9.000000</td>\n",
              "      <td>1.000000e+07</td>\n",
              "      <td>3.379739e+07</td>\n",
              "      <td>3.400874e+07</td>\n",
              "      <td>3.130692e+07</td>\n",
              "      <td>3.197699e+07</td>\n",
              "      <td>1.000000</td>\n",
              "      <td>0.0</td>\n",
              "    </tr>\n",
              "  </tbody>\n",
              "</table>\n",
              "</div>\n",
              "      <button class=\"colab-df-convert\" onclick=\"convertToInteractive('df-b2494e8d-5f6c-42c6-9b23-0c33614ff673')\"\n",
              "              title=\"Convert this dataframe to an interactive table.\"\n",
              "              style=\"display:none;\">\n",
              "        \n",
              "  <svg xmlns=\"http://www.w3.org/2000/svg\" height=\"24px\"viewBox=\"0 0 24 24\"\n",
              "       width=\"24px\">\n",
              "    <path d=\"M0 0h24v24H0V0z\" fill=\"none\"/>\n",
              "    <path d=\"M18.56 5.44l.94 2.06.94-2.06 2.06-.94-2.06-.94-.94-2.06-.94 2.06-2.06.94zm-11 1L8.5 8.5l.94-2.06 2.06-.94-2.06-.94L8.5 2.5l-.94 2.06-2.06.94zm10 10l.94 2.06.94-2.06 2.06-.94-2.06-.94-.94-2.06-.94 2.06-2.06.94z\"/><path d=\"M17.41 7.96l-1.37-1.37c-.4-.4-.92-.59-1.43-.59-.52 0-1.04.2-1.43.59L10.3 9.45l-7.72 7.72c-.78.78-.78 2.05 0 2.83L4 21.41c.39.39.9.59 1.41.59.51 0 1.02-.2 1.41-.59l7.78-7.78 2.81-2.81c.8-.78.8-2.07 0-2.86zM5.41 20L4 18.59l7.72-7.72 1.47 1.35L5.41 20z\"/>\n",
              "  </svg>\n",
              "      </button>\n",
              "      \n",
              "  <style>\n",
              "    .colab-df-container {\n",
              "      display:flex;\n",
              "      flex-wrap:wrap;\n",
              "      gap: 12px;\n",
              "    }\n",
              "\n",
              "    .colab-df-convert {\n",
              "      background-color: #E8F0FE;\n",
              "      border: none;\n",
              "      border-radius: 50%;\n",
              "      cursor: pointer;\n",
              "      display: none;\n",
              "      fill: #1967D2;\n",
              "      height: 32px;\n",
              "      padding: 0 0 0 0;\n",
              "      width: 32px;\n",
              "    }\n",
              "\n",
              "    .colab-df-convert:hover {\n",
              "      background-color: #E2EBFA;\n",
              "      box-shadow: 0px 1px 2px rgba(60, 64, 67, 0.3), 0px 1px 3px 1px rgba(60, 64, 67, 0.15);\n",
              "      fill: #174EA6;\n",
              "    }\n",
              "\n",
              "    [theme=dark] .colab-df-convert {\n",
              "      background-color: #3B4455;\n",
              "      fill: #D2E3FC;\n",
              "    }\n",
              "\n",
              "    [theme=dark] .colab-df-convert:hover {\n",
              "      background-color: #434B5C;\n",
              "      box-shadow: 0px 1px 3px 1px rgba(0, 0, 0, 0.15);\n",
              "      filter: drop-shadow(0px 1px 2px rgba(0, 0, 0, 0.3));\n",
              "      fill: #FFFFFF;\n",
              "    }\n",
              "  </style>\n",
              "\n",
              "      <script>\n",
              "        const buttonEl =\n",
              "          document.querySelector('#df-b2494e8d-5f6c-42c6-9b23-0c33614ff673 button.colab-df-convert');\n",
              "        buttonEl.style.display =\n",
              "          google.colab.kernel.accessAllowed ? 'block' : 'none';\n",
              "\n",
              "        async function convertToInteractive(key) {\n",
              "          const element = document.querySelector('#df-b2494e8d-5f6c-42c6-9b23-0c33614ff673');\n",
              "          const dataTable =\n",
              "            await google.colab.kernel.invokeFunction('convertToInteractive',\n",
              "                                                     [key], {});\n",
              "          if (!dataTable) return;\n",
              "\n",
              "          const docLinkHtml = 'Like what you see? Visit the ' +\n",
              "            '<a target=\"_blank\" href=https://colab.research.google.com/notebooks/data_table.ipynb>data table notebook</a>'\n",
              "            + ' to learn more about interactive tables.';\n",
              "          element.innerHTML = '';\n",
              "          dataTable['output_type'] = 'display_data';\n",
              "          await google.colab.output.renderOutput(dataTable, element);\n",
              "          const docLink = document.createElement('div');\n",
              "          docLink.innerHTML = docLinkHtml;\n",
              "          element.appendChild(docLink);\n",
              "        }\n",
              "      </script>\n",
              "    </div>\n",
              "  </div>\n",
              "  "
            ],
            "text/plain": [
              "               step        amount  oldbalanceOrg  newbalanceOrig  \\\n",
              "count  69858.000000  6.985800e+04   6.985800e+04    6.985800e+04   \n",
              "mean       7.893326  1.640176e+05   9.043066e+05    9.202980e+05   \n",
              "std        1.874512  3.313730e+05   2.791616e+06    2.829881e+06   \n",
              "min        1.000000  6.300000e-01   0.000000e+00    0.000000e+00   \n",
              "25%        8.000000  9.011012e+03   0.000000e+00    0.000000e+00   \n",
              "50%        8.000000  4.404918e+04   1.990850e+04    0.000000e+00   \n",
              "75%        9.000000  1.991307e+05   1.721175e+05    1.940205e+05   \n",
              "max        9.000000  1.000000e+07   3.379739e+07    3.400874e+07   \n",
              "\n",
              "       oldbalanceDest  newbalanceDest       isFraud  isFlaggedFraud  \n",
              "count    6.985800e+04    6.985700e+04  69857.000000         69857.0  \n",
              "mean     8.543522e+05    1.185141e+06      0.001532             0.0  \n",
              "std      2.403000e+06    2.871791e+06      0.039107             0.0  \n",
              "min      0.000000e+00    0.000000e+00      0.000000             0.0  \n",
              "25%      0.000000e+00    0.000000e+00      0.000000             0.0  \n",
              "50%      1.416050e+04    2.113068e+04      0.000000             0.0  \n",
              "75%      5.186073e+05    9.824113e+05      0.000000             0.0  \n",
              "max      3.130692e+07    3.197699e+07      1.000000             0.0  "
            ]
          },
          "metadata": {},
          "execution_count": 4
        }
      ]
    },
    {
      "cell_type": "code",
      "source": [
        "frauds.info()"
      ],
      "metadata": {
        "colab": {
          "base_uri": "https://localhost:8080/"
        },
        "id": "0NnKBusVRdXo",
        "outputId": "e1f33256-69d1-451b-ef25-a9fccdf986d8"
      },
      "execution_count": null,
      "outputs": [
        {
          "output_type": "stream",
          "name": "stdout",
          "text": [
            "<class 'pandas.core.frame.DataFrame'>\n",
            "RangeIndex: 69858 entries, 0 to 69857\n",
            "Data columns (total 11 columns):\n",
            " #   Column          Non-Null Count  Dtype  \n",
            "---  ------          --------------  -----  \n",
            " 0   step            69858 non-null  int64  \n",
            " 1   type            69858 non-null  object \n",
            " 2   amount          69858 non-null  float64\n",
            " 3   nameOrig        69858 non-null  object \n",
            " 4   oldbalanceOrg   69858 non-null  float64\n",
            " 5   newbalanceOrig  69858 non-null  float64\n",
            " 6   nameDest        69858 non-null  object \n",
            " 7   oldbalanceDest  69858 non-null  float64\n",
            " 8   newbalanceDest  69857 non-null  float64\n",
            " 9   isFraud         69857 non-null  float64\n",
            " 10  isFlaggedFraud  69857 non-null  float64\n",
            "dtypes: float64(7), int64(1), object(3)\n",
            "memory usage: 5.9+ MB\n"
          ]
        }
      ]
    },
    {
      "cell_type": "markdown",
      "source": [
        "#Since we are going to build a logistics regression for classification, we must check multicollinearity"
      ],
      "metadata": {
        "id": "Fhl7HOc-uE5C"
      }
    },
    {
      "cell_type": "code",
      "source": [
        "frauds.corr().style.background_gradient(cmap='coolwarm')"
      ],
      "metadata": {
        "colab": {
          "base_uri": "https://localhost:8080/",
          "height": 370
        },
        "id": "x-Zc7a1JRjJL",
        "outputId": "ae70a61a-8c87-45de-b158-3e8820e13fb9"
      },
      "execution_count": null,
      "outputs": [
        {
          "output_type": "stream",
          "name": "stderr",
          "text": [
            "/usr/local/lib/python3.7/dist-packages/pandas/io/formats/style.py:2813: RuntimeWarning: All-NaN slice encountered\n",
            "  smin = np.nanmin(gmap) if vmin is None else vmin\n",
            "/usr/local/lib/python3.7/dist-packages/pandas/io/formats/style.py:2814: RuntimeWarning: All-NaN slice encountered\n",
            "  smax = np.nanmax(gmap) if vmax is None else vmax\n"
          ]
        },
        {
          "output_type": "execute_result",
          "data": {
            "text/html": [
              "<style type=\"text/css\">\n",
              "#T_72f29_row0_col0, #T_72f29_row1_col1, #T_72f29_row2_col2, #T_72f29_row2_col3, #T_72f29_row3_col2, #T_72f29_row3_col3, #T_72f29_row4_col4, #T_72f29_row5_col5, #T_72f29_row6_col6 {\n",
              "  background-color: #b40426;\n",
              "  color: #f1f1f1;\n",
              "}\n",
              "#T_72f29_row0_col1 {\n",
              "  background-color: #5470de;\n",
              "  color: #f1f1f1;\n",
              "}\n",
              "#T_72f29_row0_col2, #T_72f29_row0_col4 {\n",
              "  background-color: #3d50c3;\n",
              "  color: #f1f1f1;\n",
              "}\n",
              "#T_72f29_row0_col3 {\n",
              "  background-color: #3f53c6;\n",
              "  color: #f1f1f1;\n",
              "}\n",
              "#T_72f29_row0_col5 {\n",
              "  background-color: #4055c8;\n",
              "  color: #f1f1f1;\n",
              "}\n",
              "#T_72f29_row0_col6, #T_72f29_row1_col2, #T_72f29_row1_col3, #T_72f29_row3_col1, #T_72f29_row6_col0, #T_72f29_row6_col2, #T_72f29_row6_col3, #T_72f29_row6_col4, #T_72f29_row6_col5 {\n",
              "  background-color: #3b4cc0;\n",
              "  color: #f1f1f1;\n",
              "}\n",
              "#T_72f29_row0_col7, #T_72f29_row1_col7, #T_72f29_row2_col7, #T_72f29_row3_col7, #T_72f29_row4_col7, #T_72f29_row5_col7, #T_72f29_row6_col7, #T_72f29_row7_col0, #T_72f29_row7_col1, #T_72f29_row7_col2, #T_72f29_row7_col3, #T_72f29_row7_col4, #T_72f29_row7_col5, #T_72f29_row7_col6, #T_72f29_row7_col7 {\n",
              "  background-color: #000000;\n",
              "  color: #f1f1f1;\n",
              "}\n",
              "#T_72f29_row1_col0, #T_72f29_row4_col3 {\n",
              "  background-color: #6180e9;\n",
              "  color: #f1f1f1;\n",
              "}\n",
              "#T_72f29_row1_col4, #T_72f29_row4_col1 {\n",
              "  background-color: #96b7ff;\n",
              "  color: #000000;\n",
              "}\n",
              "#T_72f29_row1_col5, #T_72f29_row5_col1 {\n",
              "  background-color: #bed2f6;\n",
              "  color: #000000;\n",
              "}\n",
              "#T_72f29_row1_col6 {\n",
              "  background-color: #5875e1;\n",
              "  color: #f1f1f1;\n",
              "}\n",
              "#T_72f29_row2_col0, #T_72f29_row3_col0, #T_72f29_row6_col1 {\n",
              "  background-color: #4b64d5;\n",
              "  color: #f1f1f1;\n",
              "}\n",
              "#T_72f29_row2_col1 {\n",
              "  background-color: #3c4ec2;\n",
              "  color: #f1f1f1;\n",
              "}\n",
              "#T_72f29_row2_col4, #T_72f29_row3_col4 {\n",
              "  background-color: #5f7fe8;\n",
              "  color: #f1f1f1;\n",
              "}\n",
              "#T_72f29_row2_col5, #T_72f29_row3_col5, #T_72f29_row5_col2 {\n",
              "  background-color: #536edd;\n",
              "  color: #f1f1f1;\n",
              "}\n",
              "#T_72f29_row2_col6 {\n",
              "  background-color: #485fd1;\n",
              "  color: #f1f1f1;\n",
              "}\n",
              "#T_72f29_row3_col6 {\n",
              "  background-color: #455cce;\n",
              "  color: #f1f1f1;\n",
              "}\n",
              "#T_72f29_row4_col0 {\n",
              "  background-color: #4961d2;\n",
              "  color: #f1f1f1;\n",
              "}\n",
              "#T_72f29_row4_col2 {\n",
              "  background-color: #5d7ce6;\n",
              "  color: #f1f1f1;\n",
              "}\n",
              "#T_72f29_row4_col5, #T_72f29_row5_col4 {\n",
              "  background-color: #cc403a;\n",
              "  color: #f1f1f1;\n",
              "}\n",
              "#T_72f29_row4_col6, #T_72f29_row5_col6 {\n",
              "  background-color: #465ecf;\n",
              "  color: #f1f1f1;\n",
              "}\n",
              "#T_72f29_row5_col0 {\n",
              "  background-color: #4e68d8;\n",
              "  color: #f1f1f1;\n",
              "}\n",
              "#T_72f29_row5_col3 {\n",
              "  background-color: #5572df;\n",
              "  color: #f1f1f1;\n",
              "}\n",
              "</style>\n",
              "<table id=\"T_72f29_\" class=\"dataframe\">\n",
              "  <thead>\n",
              "    <tr>\n",
              "      <th class=\"blank level0\" >&nbsp;</th>\n",
              "      <th class=\"col_heading level0 col0\" >step</th>\n",
              "      <th class=\"col_heading level0 col1\" >amount</th>\n",
              "      <th class=\"col_heading level0 col2\" >oldbalanceOrg</th>\n",
              "      <th class=\"col_heading level0 col3\" >newbalanceOrig</th>\n",
              "      <th class=\"col_heading level0 col4\" >oldbalanceDest</th>\n",
              "      <th class=\"col_heading level0 col5\" >newbalanceDest</th>\n",
              "      <th class=\"col_heading level0 col6\" >isFraud</th>\n",
              "      <th class=\"col_heading level0 col7\" >isFlaggedFraud</th>\n",
              "    </tr>\n",
              "  </thead>\n",
              "  <tbody>\n",
              "    <tr>\n",
              "      <th id=\"T_72f29_level0_row0\" class=\"row_heading level0 row0\" >step</th>\n",
              "      <td id=\"T_72f29_row0_col0\" class=\"data row0 col0\" >1.000000</td>\n",
              "      <td id=\"T_72f29_row0_col1\" class=\"data row0 col1\" >0.078134</td>\n",
              "      <td id=\"T_72f29_row0_col2\" class=\"data row0 col2\" >0.006634</td>\n",
              "      <td id=\"T_72f29_row0_col3\" class=\"data row0 col3\" >0.006257</td>\n",
              "      <td id=\"T_72f29_row0_col4\" class=\"data row0 col4\" >0.000884</td>\n",
              "      <td id=\"T_72f29_row0_col5\" class=\"data row0 col5\" >0.015396</td>\n",
              "      <td id=\"T_72f29_row0_col6\" class=\"data row0 col6\" >-0.051862</td>\n",
              "      <td id=\"T_72f29_row0_col7\" class=\"data row0 col7\" >nan</td>\n",
              "    </tr>\n",
              "    <tr>\n",
              "      <th id=\"T_72f29_level0_row1\" class=\"row_heading level0 row1\" >amount</th>\n",
              "      <td id=\"T_72f29_row1_col0\" class=\"data row1 col0\" >0.078134</td>\n",
              "      <td id=\"T_72f29_row1_col1\" class=\"data row1 col1\" >1.000000</td>\n",
              "      <td id=\"T_72f29_row1_col2\" class=\"data row1 col2\" >-0.001697</td>\n",
              "      <td id=\"T_72f29_row1_col3\" class=\"data row1 col3\" >-0.008401</td>\n",
              "      <td id=\"T_72f29_row1_col4\" class=\"data row1 col4\" >0.268007</td>\n",
              "      <td id=\"T_72f29_row1_col5\" class=\"data row1 col5\" >0.389110</td>\n",
              "      <td id=\"T_72f29_row1_col6\" class=\"data row1 col6\" >0.047712</td>\n",
              "      <td id=\"T_72f29_row1_col7\" class=\"data row1 col7\" >nan</td>\n",
              "    </tr>\n",
              "    <tr>\n",
              "      <th id=\"T_72f29_level0_row2\" class=\"row_heading level0 row2\" >oldbalanceOrg</th>\n",
              "      <td id=\"T_72f29_row2_col0\" class=\"data row2 col0\" >0.006634</td>\n",
              "      <td id=\"T_72f29_row2_col1\" class=\"data row2 col1\" >-0.001697</td>\n",
              "      <td id=\"T_72f29_row2_col2\" class=\"data row2 col2\" >1.000000</td>\n",
              "      <td id=\"T_72f29_row2_col3\" class=\"data row2 col3\" >0.998970</td>\n",
              "      <td id=\"T_72f29_row2_col4\" class=\"data row2 col4\" >0.108262</td>\n",
              "      <td id=\"T_72f29_row2_col5\" class=\"data row2 col5\" >0.075372</td>\n",
              "      <td id=\"T_72f29_row2_col6\" class=\"data row2 col6\" >-0.004517</td>\n",
              "      <td id=\"T_72f29_row2_col7\" class=\"data row2 col7\" >nan</td>\n",
              "    </tr>\n",
              "    <tr>\n",
              "      <th id=\"T_72f29_level0_row3\" class=\"row_heading level0 row3\" >newbalanceOrig</th>\n",
              "      <td id=\"T_72f29_row3_col0\" class=\"data row3 col0\" >0.006257</td>\n",
              "      <td id=\"T_72f29_row3_col1\" class=\"data row3 col1\" >-0.008401</td>\n",
              "      <td id=\"T_72f29_row3_col2\" class=\"data row3 col2\" >0.998970</td>\n",
              "      <td id=\"T_72f29_row3_col3\" class=\"data row3 col3\" >1.000000</td>\n",
              "      <td id=\"T_72f29_row3_col4\" class=\"data row3 col4\" >0.110352</td>\n",
              "      <td id=\"T_72f29_row3_col5\" class=\"data row3 col5\" >0.074976</td>\n",
              "      <td id=\"T_72f29_row3_col6\" class=\"data row3 col6\" >-0.012301</td>\n",
              "      <td id=\"T_72f29_row3_col7\" class=\"data row3 col7\" >nan</td>\n",
              "    </tr>\n",
              "    <tr>\n",
              "      <th id=\"T_72f29_level0_row4\" class=\"row_heading level0 row4\" >oldbalanceDest</th>\n",
              "      <td id=\"T_72f29_row4_col0\" class=\"data row4 col0\" >0.000884</td>\n",
              "      <td id=\"T_72f29_row4_col1\" class=\"data row4 col1\" >0.268007</td>\n",
              "      <td id=\"T_72f29_row4_col2\" class=\"data row4 col2\" >0.108262</td>\n",
              "      <td id=\"T_72f29_row4_col3\" class=\"data row4 col3\" >0.110352</td>\n",
              "      <td id=\"T_72f29_row4_col4\" class=\"data row4 col4\" >1.000000</td>\n",
              "      <td id=\"T_72f29_row4_col5\" class=\"data row4 col5\" >0.930480</td>\n",
              "      <td id=\"T_72f29_row4_col6\" class=\"data row4 col6\" >-0.010576</td>\n",
              "      <td id=\"T_72f29_row4_col7\" class=\"data row4 col7\" >nan</td>\n",
              "    </tr>\n",
              "    <tr>\n",
              "      <th id=\"T_72f29_level0_row5\" class=\"row_heading level0 row5\" >newbalanceDest</th>\n",
              "      <td id=\"T_72f29_row5_col0\" class=\"data row5 col0\" >0.015396</td>\n",
              "      <td id=\"T_72f29_row5_col1\" class=\"data row5 col1\" >0.389110</td>\n",
              "      <td id=\"T_72f29_row5_col2\" class=\"data row5 col2\" >0.075372</td>\n",
              "      <td id=\"T_72f29_row5_col3\" class=\"data row5 col3\" >0.074976</td>\n",
              "      <td id=\"T_72f29_row5_col4\" class=\"data row5 col4\" >0.930480</td>\n",
              "      <td id=\"T_72f29_row5_col5\" class=\"data row5 col5\" >1.000000</td>\n",
              "      <td id=\"T_72f29_row5_col6\" class=\"data row5 col6\" >-0.007152</td>\n",
              "      <td id=\"T_72f29_row5_col7\" class=\"data row5 col7\" >nan</td>\n",
              "    </tr>\n",
              "    <tr>\n",
              "      <th id=\"T_72f29_level0_row6\" class=\"row_heading level0 row6\" >isFraud</th>\n",
              "      <td id=\"T_72f29_row6_col0\" class=\"data row6 col0\" >-0.051862</td>\n",
              "      <td id=\"T_72f29_row6_col1\" class=\"data row6 col1\" >0.047712</td>\n",
              "      <td id=\"T_72f29_row6_col2\" class=\"data row6 col2\" >-0.004517</td>\n",
              "      <td id=\"T_72f29_row6_col3\" class=\"data row6 col3\" >-0.012301</td>\n",
              "      <td id=\"T_72f29_row6_col4\" class=\"data row6 col4\" >-0.010576</td>\n",
              "      <td id=\"T_72f29_row6_col5\" class=\"data row6 col5\" >-0.007152</td>\n",
              "      <td id=\"T_72f29_row6_col6\" class=\"data row6 col6\" >1.000000</td>\n",
              "      <td id=\"T_72f29_row6_col7\" class=\"data row6 col7\" >nan</td>\n",
              "    </tr>\n",
              "    <tr>\n",
              "      <th id=\"T_72f29_level0_row7\" class=\"row_heading level0 row7\" >isFlaggedFraud</th>\n",
              "      <td id=\"T_72f29_row7_col0\" class=\"data row7 col0\" >nan</td>\n",
              "      <td id=\"T_72f29_row7_col1\" class=\"data row7 col1\" >nan</td>\n",
              "      <td id=\"T_72f29_row7_col2\" class=\"data row7 col2\" >nan</td>\n",
              "      <td id=\"T_72f29_row7_col3\" class=\"data row7 col3\" >nan</td>\n",
              "      <td id=\"T_72f29_row7_col4\" class=\"data row7 col4\" >nan</td>\n",
              "      <td id=\"T_72f29_row7_col5\" class=\"data row7 col5\" >nan</td>\n",
              "      <td id=\"T_72f29_row7_col6\" class=\"data row7 col6\" >nan</td>\n",
              "      <td id=\"T_72f29_row7_col7\" class=\"data row7 col7\" >nan</td>\n",
              "    </tr>\n",
              "  </tbody>\n",
              "</table>\n"
            ],
            "text/plain": [
              "<pandas.io.formats.style.Styler at 0x7f25ec5fad50>"
            ]
          },
          "metadata": {},
          "execution_count": 6
        }
      ]
    },
    {
      "cell_type": "code",
      "source": [
        "#let us see the heatmap for better understanding\n",
        "sns.heatmap(frauds.corr())"
      ],
      "metadata": {
        "colab": {
          "base_uri": "https://localhost:8080/",
          "height": 359
        },
        "id": "rWxCEkN5V-nv",
        "outputId": "ed51f895-8de6-47d4-9b46-11d7278f46e8"
      },
      "execution_count": null,
      "outputs": [
        {
          "output_type": "execute_result",
          "data": {
            "text/plain": [
              "<matplotlib.axes._subplots.AxesSubplot at 0x7f25eb8935d0>"
            ]
          },
          "metadata": {},
          "execution_count": 7
        },
        {
          "output_type": "display_data",
          "data": {
            "image/png": "[encoded data removed]",
            "text/plain": [
              "<Figure size 432x288 with 2 Axes>"
            ]
          },
          "metadata": {
            "needs_background": "light"
          }
        }
      ]
    },
    {
      "cell_type": "code",
      "source": [
        "#Checking for missing values\n",
        "frauds.isna().sum()"
      ],
      "metadata": {
        "colab": {
          "base_uri": "https://localhost:8080/"
        },
        "id": "f6pVHXYtt97f",
        "outputId": "9119357a-04cd-402a-85d2-e90d96da7882"
      },
      "execution_count": null,
      "outputs": [
        {
          "output_type": "execute_result",
          "data": {
            "text/plain": [
              "step              0\n",
              "type              0\n",
              "amount            0\n",
              "nameOrig          0\n",
              "oldbalanceOrg     0\n",
              "newbalanceOrig    0\n",
              "nameDest          0\n",
              "oldbalanceDest    0\n",
              "newbalanceDest    1\n",
              "isFraud           1\n",
              "isFlaggedFraud    1\n",
              "dtype: int64"
            ]
          },
          "metadata": {},
          "execution_count": 16
        }
      ]
    },
    {
      "cell_type": "markdown",
      "source": [
        "We are having just 3 missing values in 3 different variables, so we can just drop those rows."
      ],
      "metadata": {
        "id": "_VvIebTsu-Xm"
      }
    },
    {
      "cell_type": "code",
      "source": [
        "frauds.dropna(subset=['newbalanceDest','isFraud','isFlaggedFraud'],inplace=True)"
      ],
      "metadata": {
        "id": "F4eTRClyvURH"
      },
      "execution_count": null,
      "outputs": []
    },
    {
      "cell_type": "markdown",
      "source": [
        "#Let us check if the dataset is balanced or imbalanced in classification."
      ],
      "metadata": {
        "id": "h-TLPFnz2RfS"
      }
    },
    {
      "cell_type": "code",
      "source": [
        "frauds[\"isFraud\"].value_counts()"
      ],
      "metadata": {
        "colab": {
          "base_uri": "https://localhost:8080/"
        },
        "id": "7wpRFZ7t3CG5",
        "outputId": "f28ec1a4-3f82-4781-b216-cd7930598e32"
      },
      "execution_count": null,
      "outputs": [
        {
          "output_type": "execute_result",
          "data": {
            "text/plain": [
              "0.0    69750\n",
              "1.0      107\n",
              "Name: isFraud, dtype: int64"
            ]
          },
          "metadata": {},
          "execution_count": 20
        }
      ]
    },
    {
      "cell_type": "code",
      "source": [
        "frauds[\"isFraud\"].value_counts(normalize=True)"
      ],
      "metadata": {
        "colab": {
          "base_uri": "https://localhost:8080/"
        },
        "id": "NOwWZJVk35sw",
        "outputId": "672befed-8140-4885-879a-4869fc301a66"
      },
      "execution_count": null,
      "outputs": [
        {
          "output_type": "execute_result",
          "data": {
            "text/plain": [
              "0.0    0.998468\n",
              "1.0    0.001532\n",
              "Name: isFraud, dtype: float64"
            ]
          },
          "metadata": {},
          "execution_count": 21
        }
      ]
    },
    {
      "cell_type": "code",
      "source": [
        "frauds[\"isFraud\"].value_counts(normalize=True).plot.pie()"
      ],
      "metadata": {
        "colab": {
          "base_uri": "https://localhost:8080/",
          "height": 265
        },
        "id": "KWEq8-lA-Fh8",
        "outputId": "d1873f23-5b6e-477c-d963-a89369cb5bdd"
      },
      "execution_count": null,
      "outputs": [
        {
          "output_type": "execute_result",
          "data": {
            "text/plain": [
              "<matplotlib.axes._subplots.AxesSubplot at 0x7f25e5c04290>"
            ]
          },
          "metadata": {},
          "execution_count": 24
        },
        {
          "output_type": "display_data",
          "data": {
            "image/png": "[encoded data removed]",
            "text/plain": [
              "<Figure size 432x288 with 1 Axes>"
            ]
          },
          "metadata": {}
        }
      ]
    },
    {
      "cell_type": "markdown",
      "source": [
        "The data is heavily imbalanced so we have to do something with it while model building and data splitting."
      ],
      "metadata": {
        "id": "PCkTGHoU-WLE"
      }
    },
    {
      "cell_type": "markdown",
      "source": [
        "For now, lets see if there is relationship between the target variable and the independent variables."
      ],
      "metadata": {
        "id": "57MbahVM_KPv"
      }
    },
    {
      "cell_type": "code",
      "source": [
        "# Visualize relationship between promoted and other features\n",
        "fig= plt.figure(figsize=(10,5) )\n",
        "fig.add_subplot(1,3,1)\n",
        "ar_6=sns.boxplot(x=frauds[\"isFraud\"],y=frauds[\"amount\"])\n",
        "fig.add_subplot(1,3,2)\n",
        "ar_6=sns.boxplot(x=frauds[\"isFraud\"],y=frauds[\"isFlaggedFraud\"])\n",
        "fig.add_subplot(1,3,3)\n",
        "ar_6=sns.boxplot(x=frauds[\"isFraud\"],y=frauds[\"newbalanceOrig\"])\n",
        "plt.tight_layout()\n",
        "plt.show()"
      ],
      "metadata": {
        "colab": {
          "base_uri": "https://localhost:8080/",
          "height": 369
        },
        "id": "DEEgaDcA_XF8",
        "outputId": "40b0c197-33e9-4273-cb61-7c5231e6354b"
      },
      "execution_count": null,
      "outputs": [
        {
          "output_type": "display_data",
          "data": {
            "image/png": "[encoded data removed]",
            "text/plain": [
              "<Figure size 720x360 with 3 Axes>"
            ]
          },
          "metadata": {
            "needs_background": "light"
          }
        }
      ]
    },
    {
      "cell_type": "markdown",
      "source": [
        "**Feature** **Engineering**"
      ],
      "metadata": {
        "id": "T3noZbdE6R8e"
      }
    },
    {
      "cell_type": "markdown",
      "source": [
        "Since nameOrig and nameDest are just the ids of the customer before the transaction and after , we can drop those columns from the model building dataset."
      ],
      "metadata": {
        "id": "oVgVE0kD7WS5"
      }
    },
    {
      "cell_type": "code",
      "source": [
        "frauds.drop(\"nameOrig\", inplace=True, axis=1)\n",
        "frauds.drop(\"nameDest\", inplace=True, axis=1)"
      ],
      "metadata": {
        "id": "jz3Lp0nXIPST"
      },
      "execution_count": null,
      "outputs": []
    },
    {
      "cell_type": "code",
      "source": [
        "#Converting Categorical columns into one hot encoding\n",
        "#Create dummy variables\n",
        "ds=pd.get_dummies(frauds[\"type\"],drop_first=True)\n",
        "ds\n",
        "#concat newly created columns with original dataframe\n",
        "frauds=pd.concat([frauds,ds],axis=1)\n",
        "#Drop original column\n",
        "frauds.drop(\"type\",axis=1,inplace=True)"
      ],
      "metadata": {
        "id": "VzCxw9TmE85R"
      },
      "execution_count": null,
      "outputs": []
    },
    {
      "cell_type": "markdown",
      "source": [
        "**Model** **Building**"
      ],
      "metadata": {
        "id": "W8SS7BJ16bQc"
      }
    },
    {
      "cell_type": "code",
      "execution_count": null,
      "metadata": {
        "id": "PvjrT_150MaA"
      },
      "outputs": [],
      "source": [
        "from sklearn.model_selection import train_test_split\n",
        "x_train, x_test, y_train, y_test = train_test_split(frauds, frauds[\"isFraud\"], test_size=0.33, random_state=42)"
      ]
    },
    {
      "cell_type": "markdown",
      "source": [
        "Since data is highly imbalanced , we are adding weights to the logistic regression model"
      ],
      "metadata": {
        "id": "LES4BXsr6kAd"
      }
    },
    {
      "cell_type": "code",
      "source": [
        "#import library\n",
        "from sklearn.linear_model import LogisticRegression\n",
        "#make instance of model with default parameters except class weight\n",
        "#as we will add class weights due to class imbalance problem\n",
        "lr_basemodel =LogisticRegression(class_weight={0:0.1,1:0.9})\n",
        "# train model to learn relationships between input and output variables\n",
        "lr_basemodel.fit(x_train,y_train)"
      ],
      "metadata": {
        "colab": {
          "base_uri": "https://localhost:8080/"
        },
        "id": "tDpq1ISnIVjV",
        "outputId": "b3fae3e8-7bec-48c0-c650-2a4a1be21933"
      },
      "execution_count": null,
      "outputs": [
        {
          "output_type": "execute_result",
          "data": {
            "text/plain": [
              "LogisticRegression(class_weight={0: 0.1, 1: 0.9})"
            ]
          },
          "metadata": {},
          "execution_count": 13
        }
      ]
    },
    {
      "cell_type": "code",
      "source": [
        "y_pred_basemodel = lr_basemodel.predict(x_test)"
      ],
      "metadata": {
        "id": "ZNfUHfGaJVoL"
      },
      "execution_count": null,
      "outputs": []
    },
    {
      "cell_type": "code",
      "source": [
        "#Measuring the model with F1 score\n",
        "from sklearn.metrics import f1_score\n",
        "print(\"f1 score for base model is : \" , f1_score(y_test,y_pred_basemodel))"
      ],
      "metadata": {
        "colab": {
          "base_uri": "https://localhost:8080/"
        },
        "id": "kERGrY13LyZY",
        "outputId": "b28c7a9e-f3e6-4fc5-8ffb-84e3fb59e4e2"
      },
      "execution_count": null,
      "outputs": [
        {
          "output_type": "stream",
          "name": "stdout",
          "text": [
            "f1 score for base model is :  0.15873015873015875\n"
          ]
        }
      ]
    },
    {
      "cell_type": "code",
      "source": [
        "from sklearn.metrics import confusion_matrix\n",
        "confusion_matrix = confusion_matrix(y_test, y_pred_basemodel)\n",
        "print(confusion_matrix)"
      ],
      "metadata": {
        "colab": {
          "base_uri": "https://localhost:8080/"
        },
        "id": "xqDKxGUlNsRw",
        "outputId": "5e505c39-6680-4795-80a5-82649b97e7da"
      },
      "execution_count": null,
      "outputs": [
        {
          "output_type": "stream",
          "name": "stdout",
          "text": [
            "[[36510    22]\n",
            " [   31     5]]\n"
          ]
        }
      ]
    },
    {
      "cell_type": "code",
      "source": [
        "accuracy_score = (36510+5)/36568\n",
        "print(accuracy_score)"
      ],
      "metadata": {
        "colab": {
          "base_uri": "https://localhost:8080/"
        },
        "id": "YwhNwEWW38iq",
        "outputId": "a2e3c925-a22b-47f3-d7a5-a6053a20b981"
      },
      "execution_count": null,
      "outputs": [
        {
          "output_type": "stream",
          "name": "stdout",
          "text": [
            "0.9985506453730038\n"
          ]
        }
      ]
    },
    {
      "cell_type": "markdown",
      "source": [
        "Since model is giving 99.8 % accuracy , we don't need hyperparameter tuning."
      ],
      "metadata": {
        "id": "1UBTG33b5rXv"
      }
    },
    {
      "cell_type": "markdown",
      "source": [
        "This model can be deployed to predict fraud transactions , however more data variables can reduce bias in predicting fraud transactions."
      ],
      "metadata": {
        "id": "OPxSXTF97qXI"
      }
    }
  ]
}